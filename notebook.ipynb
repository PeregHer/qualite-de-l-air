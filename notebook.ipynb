{
 "cells": [
  {
   "cell_type": "code",
   "execution_count": 166,
   "metadata": {},
   "outputs": [],
   "source": [
    "import pandas as pd\n",
    "import requests"
   ]
  },
  {
   "cell_type": "code",
   "execution_count": 57,
   "metadata": {},
   "outputs": [],
   "source": [
    "#Importer le json avec un appel vers l'API\n",
    "response = requests.get('https://data.airbreizh.asso.fr/geoserver/ind_bretagne_agglo/ows?service=WFS&version=1.0.0&request=GetFeature&typeName=ind_bretagne_agglo:ind_bretagne_agglo&outputFormat=application%2Fjson').json()"
   ]
  },
  {
   "cell_type": "code",
   "execution_count": 114,
   "metadata": {},
   "outputs": [],
   "source": [
    "#Créer un dictionnaire pour renommer les villes\n",
    "villes = {'CA Saint-Brieuc Armor': 'Saint-Brieuc', 'CA Golfe du Morbihan - Vannes': 'Vannes',\n",
    "        'CA Quimper Bretagne Occidentale': 'Quimper', 'Rennes Métropole': 'Rennes',\n",
    "        'CA du Pays de Saint-Malo (Saint-Malo Agglomération)': 'Saint-Malo',\n",
    "        'Brest Métropole': 'Brest', 'CA Lorient': 'Lorient', }"
   ]
  },
  {
   "cell_type": "code",
   "execution_count": 181,
   "metadata": {},
   "outputs": [],
   "source": [
    "#Transformer le json en un tableau pandas\n",
    "data = pd.json_normalize(response, record_path='features')\n",
    "#Garder seulement les colonnes qui nous intéresse\n",
    "data = data[['geometry.coordinates', 'properties.date_ech', 'properties.valeur', 'properties.lib_zone']]\n",
    "#Passer la date au format YYYY-MM-DD\n",
    "data['properties.date_ech'] = data['properties.date_ech'].apply(lambda x: x[:10])"
   ]
  },
  {
   "cell_type": "code",
   "execution_count": 128,
   "metadata": {},
   "outputs": [
    {
     "data": {
      "text/plain": [
       "array(['CA Saint-Brieuc Armor', 'CA Golfe du Morbihan - Vannes',\n",
       "       'CA Quimper Bretagne Occidentale', 'Rennes Métropole',\n",
       "       'CA du Pays de Saint-Malo (Saint-Malo Agglomération)',\n",
       "       'Brest Métropole', 'CA Lorient'], dtype=object)"
      ]
     },
     "execution_count": 128,
     "metadata": {},
     "output_type": "execute_result"
    }
   ],
   "source": [
    "data['properties.lib_zone'].unique()"
   ]
  },
  {
   "cell_type": "code",
   "execution_count": 179,
   "metadata": {},
   "outputs": [],
   "source": [
    "from air import Connexion\n",
    "from pyproj import Proj, transform"
   ]
  },
  {
   "cell_type": "code",
   "execution_count": 180,
   "metadata": {
    "tags": []
   },
   "outputs": [],
   "source": [
    "json = ''\n",
    "#Créer des objets Proj pour transformer les coordonnées géographiques\n",
    "inProj = Proj(init='epsg:2154')\n",
    "outProj = Proj(init='epsg:4326')\n",
    "\n",
    "#Créer un json propre et le stocker dans une string\n",
    "for i, feature in enumerate(response['features']):\n",
    "    long, lat = feature['geometry']['coordinates']\n",
    "    long, lat = transform(inProj,outProj,long, lat)\n",
    "    coordinates = [long, lat]\n",
    "    \n",
    "    data = {'date': feature['properties']['date_ech'][:10],\n",
    "            'ville': villes[feature['properties']['lib_zone']], \n",
    "            'niveau': feature['properties']['valeur'],\n",
    "            'coordinates': coordinates}\n",
    "    data = str(data).replace(\"\\'\", \"\\\"\")\n",
    "    json = json + data"
   ]
  },
  {
   "cell_type": "code",
   "execution_count": 178,
   "metadata": {},
   "outputs": [],
   "source": [
    "#Importer la string dans un fichier json\n",
    "with open('json.json', 'w') as f:\n",
    "    f.write(json)"
   ]
  }
 ],
 "metadata": {
  "kernelspec": {
   "display_name": "Python 3",
   "language": "python",
   "name": "python3"
  },
  "language_info": {
   "codemirror_mode": {
    "name": "ipython",
    "version": 3
   },
   "file_extension": ".py",
   "mimetype": "text/x-python",
   "name": "python",
   "nbconvert_exporter": "python",
   "pygments_lexer": "ipython3",
   "version": "3.8.3"
  }
 },
 "nbformat": 4,
 "nbformat_minor": 2
}
